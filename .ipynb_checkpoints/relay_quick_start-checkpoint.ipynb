{
 "cells": [
  {
   "cell_type": "code",
   "execution_count": null,
   "metadata": {},
   "outputs": [],
   "source": [
    "%matplotlib inline"
   ]
  },
  {
   "cell_type": "markdown",
   "metadata": {},
   "source": [
    "\n",
    "\n",
    "Quick Start Tutorial for Compiling Deep Learning Models\n",
    "=======================================================\n",
    "**Author**: `Yao Wang <https://github.com/kevinthesun>`_, `Truman Tian <https://github.com/SiNZeRo>`_\n",
    "\n",
    "This example shows how to build a neural network with Relay python frontend and\n",
    "generates a runtime library for Nvidia GPU with TVM.\n",
    "Notice that you need to build TVM with cuda and llvm enabled.\n",
    "\n"
   ]
  },
  {
   "cell_type": "markdown",
   "metadata": {},
   "source": [
    "Overview for Supported Hardware Backend of TVM\n",
    "----------------------------------------------\n",
    "The image below shows hardware backend currently supported by TVM:\n",
    "\n",
    "![](https://github.com/dmlc/web-data/raw/master/tvm/tutorial/tvm_support_list.png)\n",
    "\n",
    "     :align: center\n",
    "\n",
    "In this tutorial, we'll choose cuda and llvm as target backends.\n",
    "To begin with, let's import Relay and TVM.\n",
    "\n"
   ]
  },
  {
   "cell_type": "code",
   "execution_count": null,
   "metadata": {},
   "outputs": [],
   "source": [
    "import numpy as np\n",
    "\n",
    "from tvm import relay\n",
    "from tvm.relay import testing\n",
    "import tvm\n",
    "from tvm import te\n",
    "from tvm.contrib import graph_runtime"
   ]
  },
  {
   "cell_type": "markdown",
   "metadata": {},
   "source": [
    "Define Neural Network in Relay\n",
    "------------------------------\n",
    "First, let's define a neural network with relay python frontend.\n",
    "For simplicity, we'll use pre-defined resnet-18 network in Relay.\n",
    "Parameters are initialized with Xavier initializer.\n",
    "Relay also supports other model formats such as MXNet, CoreML, ONNX and\n",
    "Tensorflow.\n",
    "\n",
    "In this tutorial, we assume we will do inference on our device\n",
    "and the batch size is set to be 1. Input images are RGB color\n",
    "images of size 224 * 224. We can call the :any:`tvm.relay.TupleWrapper.astext()`\n",
    "to show the network structure.\n",
    "\n"
   ]
  },
  {
   "cell_type": "code",
   "execution_count": null,
   "metadata": {},
   "outputs": [],
   "source": [
    "batch_size = 1\n",
    "num_class = 1000\n",
    "image_shape = (3, 224, 224)\n",
    "data_shape = (batch_size,) + image_shape\n",
    "out_shape = (batch_size, num_class)\n",
    "\n",
    "mod, params = relay.testing.resnet.get_workload(\n",
    "    num_layers=18, batch_size=batch_size, image_shape=image_shape)\n",
    "\n",
    "# set show_meta_data=True if you want to show meta data\n",
    "print(mod.astext(show_meta_data=False))"
   ]
  },
  {
   "cell_type": "markdown",
   "metadata": {},
   "source": [
    "Compilation\n",
    "-----------\n",
    "Next step is to compile the model using the Relay/TVM pipeline.\n",
    "Users can specify the optimization level of the compilation.\n",
    "Currently this value can be 0 to 3. The optimization passes include\n",
    "operator fusion, pre-computation, layout transformation and so on.\n",
    "\n",
    ":py:func:`relay.build` returns three components: the execution graph in\n",
    "json format, the TVM module library of compiled functions specifically\n",
    "for this graph on the target hardware, and the parameter blobs of\n",
    "the model. During the compilation, Relay does the graph-level\n",
    "optimization while TVM does the tensor-level optimization, resulting\n",
    "in an optimized runtime module for model serving.\n",
    "\n",
    "We'll first compile for Nvidia GPU. Behind the scene, :py:func:`relay.build`\n",
    "first does a number of graph-level optimizations, e.g. pruning, fusing, etc.,\n",
    "then registers the operators (i.e. the nodes of the optimized graphs) to\n",
    "TVM implementations to generate a `tvm.module`.\n",
    "To generate the module library, TVM will first transfer the high level IR\n",
    "into the lower intrinsic IR of the specified target backend, which is CUDA\n",
    "in this example. Then the machine code will be generated as the module library.\n",
    "\n"
   ]
  },
  {
   "cell_type": "code",
   "execution_count": null,
   "metadata": {},
   "outputs": [],
   "source": [
    "opt_level = 3\n",
    "target = tvm.target.cuda()\n",
    "with tvm.transform.PassContext(opt_level=opt_level):\n",
    "    graph, lib, params = relay.build(mod, target, params=params)"
   ]
  },
  {
   "cell_type": "markdown",
   "metadata": {},
   "source": [
    "Run the generate library\n",
    "------------------------\n",
    "Now we can create graph runtime and run the module on Nvidia GPU.\n",
    "\n"
   ]
  },
  {
   "cell_type": "code",
   "execution_count": null,
   "metadata": {},
   "outputs": [],
   "source": [
    "# create random input\n",
    "ctx = tvm.gpu()\n",
    "data = np.random.uniform(-1, 1, size=data_shape).astype(\"float32\")\n",
    "# create module\n",
    "module = graph_runtime.create(graph, lib, ctx)\n",
    "# set input and parameters\n",
    "module.set_input(\"data\", data)\n",
    "module.set_input(**params)\n",
    "# run\n",
    "module.run()\n",
    "# get output\n",
    "out = module.get_output(0, tvm.nd.empty(out_shape)).asnumpy()\n",
    "\n",
    "# Print first 10 elements of output\n",
    "print(out.flatten()[0:10])"
   ]
  },
  {
   "cell_type": "markdown",
   "metadata": {},
   "source": [
    "Save and Load Compiled Module\n",
    "-----------------------------\n",
    "We can also save the graph, lib and parameters into files and load them\n",
    "back in deploy environment.\n",
    "\n"
   ]
  },
  {
   "cell_type": "code",
   "execution_count": null,
   "metadata": {},
   "outputs": [],
   "source": [
    "# save the graph, lib and params into separate files\n",
    "from tvm.contrib import util\n",
    "\n",
    "temp = util.tempdir()\n",
    "path_lib = temp.relpath(\"deploy_lib.tar\")\n",
    "lib.export_library(path_lib)\n",
    "with open(temp.relpath(\"deploy_graph.json\"), \"w\") as fo:\n",
    "    fo.write(graph)\n",
    "with open(temp.relpath(\"deploy_param.params\"), \"wb\") as fo:\n",
    "    fo.write(relay.save_param_dict(params))\n",
    "print(temp.listdir())"
   ]
  },
  {
   "cell_type": "code",
   "execution_count": null,
   "metadata": {},
   "outputs": [],
   "source": [
    "# load the module back.\n",
    "loaded_json = open(temp.relpath(\"deploy_graph.json\")).read()\n",
    "loaded_lib = tvm.runtime.load_module(path_lib)\n",
    "loaded_params = bytearray(open(temp.relpath(\"deploy_param.params\"), \"rb\").read())\n",
    "input_data = tvm.nd.array(np.random.uniform(size=data_shape).astype(\"float32\"))\n",
    "\n",
    "module = graph_runtime.create(loaded_json, loaded_lib, ctx)\n",
    "module.load_params(loaded_params)\n",
    "module.run(data=input_data)\n",
    "out_deploy = module.get_output(0).asnumpy()\n",
    "\n",
    "# Print first 10 elements of output\n",
    "print(out_deploy.flatten()[0:10])\n",
    "\n",
    "# check whether the output from deployed module is consistent with original one\n",
    "tvm.testing.assert_allclose(out_deploy, out, atol=1e-3)"
   ]
  }
 ],
 "metadata": {
  "kernelspec": {
   "display_name": "Python 3",
   "language": "python",
   "name": "python3"
  },
  "language_info": {
   "codemirror_mode": {
    "name": "ipython",
    "version": 3
   },
   "file_extension": ".py",
   "mimetype": "text/x-python",
   "name": "python",
   "nbconvert_exporter": "python",
   "pygments_lexer": "ipython3",
   "version": "3.8.3"
  }
 },
 "nbformat": 4,
 "nbformat_minor": 1
}
