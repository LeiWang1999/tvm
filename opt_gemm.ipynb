{
 "cells": [
  {
   "cell_type": "code",
   "execution_count": 1,
   "metadata": {},
   "outputs": [],
   "source": [
    "%matplotlib inline"
   ]
  },
  {
   "cell_type": "markdown",
   "metadata": {},
   "source": [
    "\n",
    "\n",
    "How to optimize GEMM on CPU\n",
    "===========================\n",
    "**Author**: `Jian Weng <https://github.com/were>`_,             `Ruofei Yu <https://github.com/yuruofeifei>`_\n",
    "\n",
    "(TL;DR) TVM provides abstract interfaces which allows users to depict an algorithm and the\n",
    "algorithm's implementing organization (the so-called schedule) separately. Typically, writing\n",
    "algorithm in high-performance schedule breaks the algorithm's readability and modularity. Also,\n",
    "trying various seemingly promising schedules is time-consuming. With the help of TVM, we can\n",
    "try these schedules efficiently to enhance the performance.\n",
    "\n",
    "In this tutorial, we will demonstrate how to use TVM to optimize square matrix multiplication\n",
    "and achieve 200 times faster than baseline by simply adding 18 extra lines of code.\n",
    "\n",
    "There are two important optimizations on intense computation applications executed on CPU:\n",
    "    1. Increase the cache hit rate of memory access. Both complex numerical computation and hot-spot\n",
    "       memory access can be accelerated from high cache hit rate. This requires us to transform the\n",
    "       origin memory access pattern to the pattern fits the cache policy.\n",
    "    2. SIMD (Single instruction multi-data), or we call it vector processing unit. Every time, a\n",
    "       small batch of data, rather than a single grid, will be processed. This requires us to\n",
    "       transform the data access pattern in the loop body in uniform pattern so that the LLVM\n",
    "       backend can lower it to SIMD.\n",
    "\n",
    "Actually, all the methodologies used in this tutorial is a subset of tricks mentioned in this\n",
    "`repo <https://github.com/flame/how-to-optimize-gemm>`_. Some of them have been applied by TVM\n",
    "abstraction automatically, but some of them cannot be simply applied due to TVM constraints.\n",
    "\n",
    "All the experiment results mentioned below, are executed on 2015's 15' MacBook equipped with\n",
    "Intel i7-4770HQ CPU. The cache line size should be 64 bytes for all the x86 CPUs.\n",
    "\n"
   ]
  },
  {
   "cell_type": "markdown",
   "metadata": {},
   "source": [
    "Preparation and Baseline\n",
    "------------------------\n",
    "In this tutorial, we will demo how to use TVM to optimize matrix multiplication.\n",
    "Before actually demonstrating, we first define these variables.\n",
    "Then we write a baseline implementation, the simplest way to write a matrix multiplication in TVM.\n",
    "\n"
   ]
  },
  {
   "cell_type": "code",
   "execution_count": 2,
   "metadata": {},
   "outputs": [
    {
     "name": "stdout",
     "output_type": "stream",
     "text": [
      "Numpy running time: 0.013343\n"
     ]
    },
    {
     "ename": "TVMError",
     "evalue": "Traceback (most recent call last):\n  [bt] (3) /home/lei/tvm/build/libtvm.so(TVMFuncCall+0x63) [0x7f936acc0e93]\n  [bt] (2) /home/lei/tvm/build/libtvm.so(tvm::runtime::TypedPackedFunc<tvm::runtime::Module (tvm::IRModule, tvm::Target const&)>::AssignTypedLambda<tvm::runtime::Module (*)(tvm::IRModule, tvm::Target const&)>(tvm::runtime::Module (*)(tvm::IRModule, tvm::Target const&))::{lambda(tvm::runtime::TVMArgs const&, tvm::runtime::TVMRetValue*)#1}::operator()(tvm::runtime::TVMArgs const&, tvm::runtime::TVMRetValue*) const+0x1b5) [0x7f936a6f9f95]\n  [bt] (1) /home/lei/tvm/build/libtvm.so(tvm::codegen::Build(tvm::IRModule, tvm::Target const&)+0x8a0) [0x7f936a6f4620]\n  [bt] (0) /home/lei/tvm/build/libtvm.so(+0xbdbd28) [0x7f936a6f3d28]\n  File \"/home/lei/tvm/src/target/codegen.cc\", line 58\nTVMError: Check failed: bf != nullptr: target.build.llvm -keys=cpu is not enabled",
     "output_type": "error",
     "traceback": [
      "\u001b[0;31m---------------------------------------------------------------------------\u001b[0m",
      "\u001b[0;31mTVMError\u001b[0m                                  Traceback (most recent call last)",
      "\u001b[0;32m<ipython-input-2-4ba71083c474>\u001b[0m in \u001b[0;36m<module>\u001b[0;34m\u001b[0m\n\u001b[1;32m     49\u001b[0m \u001b[0;31m# Default schedule\u001b[0m\u001b[0;34m\u001b[0m\u001b[0;34m\u001b[0m\u001b[0;34m\u001b[0m\u001b[0m\n\u001b[1;32m     50\u001b[0m \u001b[0ms\u001b[0m \u001b[0;34m=\u001b[0m \u001b[0mte\u001b[0m\u001b[0;34m.\u001b[0m\u001b[0mcreate_schedule\u001b[0m\u001b[0;34m(\u001b[0m\u001b[0mC\u001b[0m\u001b[0;34m.\u001b[0m\u001b[0mop\u001b[0m\u001b[0;34m)\u001b[0m\u001b[0;34m\u001b[0m\u001b[0;34m\u001b[0m\u001b[0m\n\u001b[0;32m---> 51\u001b[0;31m \u001b[0mfunc\u001b[0m \u001b[0;34m=\u001b[0m \u001b[0mtvm\u001b[0m\u001b[0;34m.\u001b[0m\u001b[0mbuild\u001b[0m\u001b[0;34m(\u001b[0m\u001b[0ms\u001b[0m\u001b[0;34m,\u001b[0m \u001b[0;34m[\u001b[0m\u001b[0mA\u001b[0m\u001b[0;34m,\u001b[0m \u001b[0mB\u001b[0m\u001b[0;34m,\u001b[0m \u001b[0mC\u001b[0m\u001b[0;34m]\u001b[0m\u001b[0;34m,\u001b[0m \u001b[0mtarget\u001b[0m\u001b[0;34m=\u001b[0m\u001b[0mtarget\u001b[0m\u001b[0;34m,\u001b[0m \u001b[0mname\u001b[0m\u001b[0;34m=\u001b[0m\u001b[0;34m'mmult'\u001b[0m\u001b[0;34m)\u001b[0m\u001b[0;34m\u001b[0m\u001b[0;34m\u001b[0m\u001b[0m\n\u001b[0m\u001b[1;32m     52\u001b[0m \u001b[0;32massert\u001b[0m \u001b[0mfunc\u001b[0m\u001b[0;34m\u001b[0m\u001b[0;34m\u001b[0m\u001b[0m\n\u001b[1;32m     53\u001b[0m \u001b[0;34m\u001b[0m\u001b[0m\n",
      "\u001b[0;32m~/tvm/python/tvm/driver/build_module.py\u001b[0m in \u001b[0;36mbuild\u001b[0;34m(inputs, args, target, target_host, name, binds)\u001b[0m\n\u001b[1;32m    425\u001b[0m \u001b[0;34m\u001b[0m\u001b[0m\n\u001b[1;32m    426\u001b[0m     \u001b[0;31m# Generate a unified host module.\u001b[0m\u001b[0;34m\u001b[0m\u001b[0;34m\u001b[0m\u001b[0;34m\u001b[0m\u001b[0m\n\u001b[0;32m--> 427\u001b[0;31m     \u001b[0mrt_mod_host\u001b[0m \u001b[0;34m=\u001b[0m \u001b[0mcodegen\u001b[0m\u001b[0;34m.\u001b[0m\u001b[0mbuild_module\u001b[0m\u001b[0;34m(\u001b[0m\u001b[0mmod_host_all\u001b[0m\u001b[0;34m,\u001b[0m \u001b[0mtarget_host\u001b[0m\u001b[0;34m)\u001b[0m\u001b[0;34m\u001b[0m\u001b[0;34m\u001b[0m\u001b[0m\n\u001b[0m\u001b[1;32m    428\u001b[0m \u001b[0;34m\u001b[0m\u001b[0m\n\u001b[1;32m    429\u001b[0m     \u001b[0;31m# Import all modules.\u001b[0m\u001b[0;34m\u001b[0m\u001b[0;34m\u001b[0m\u001b[0;34m\u001b[0m\u001b[0m\n",
      "\u001b[0;32m~/tvm/python/tvm/target/codegen.py\u001b[0m in \u001b[0;36mbuild_module\u001b[0;34m(mod, target)\u001b[0m\n\u001b[1;32m     38\u001b[0m     \"\"\"\n\u001b[1;32m     39\u001b[0m     \u001b[0mtarget\u001b[0m \u001b[0;34m=\u001b[0m \u001b[0m_tgt\u001b[0m\u001b[0;34m.\u001b[0m\u001b[0mcreate\u001b[0m\u001b[0;34m(\u001b[0m\u001b[0mtarget\u001b[0m\u001b[0;34m)\u001b[0m \u001b[0;32mif\u001b[0m \u001b[0misinstance\u001b[0m\u001b[0;34m(\u001b[0m\u001b[0mtarget\u001b[0m\u001b[0;34m,\u001b[0m \u001b[0mstr\u001b[0m\u001b[0;34m)\u001b[0m \u001b[0;32melse\u001b[0m \u001b[0mtarget\u001b[0m\u001b[0;34m\u001b[0m\u001b[0;34m\u001b[0m\u001b[0m\n\u001b[0;32m---> 40\u001b[0;31m     \u001b[0;32mreturn\u001b[0m \u001b[0m_ffi_api\u001b[0m\u001b[0;34m.\u001b[0m\u001b[0mBuild\u001b[0m\u001b[0;34m(\u001b[0m\u001b[0mmod\u001b[0m\u001b[0;34m,\u001b[0m \u001b[0mtarget\u001b[0m\u001b[0;34m)\u001b[0m\u001b[0;34m\u001b[0m\u001b[0;34m\u001b[0m\u001b[0m\n\u001b[0m\u001b[1;32m     41\u001b[0m \u001b[0;34m\u001b[0m\u001b[0m\n\u001b[1;32m     42\u001b[0m \u001b[0;34m\u001b[0m\u001b[0m\n",
      "\u001b[0;32m~/tvm/python/tvm/_ffi/_ctypes/packed_func.py\u001b[0m in \u001b[0;36m__call__\u001b[0;34m(self, *args)\u001b[0m\n\u001b[1;32m    223\u001b[0m                 \u001b[0mself\u001b[0m\u001b[0;34m.\u001b[0m\u001b[0mhandle\u001b[0m\u001b[0;34m,\u001b[0m \u001b[0mvalues\u001b[0m\u001b[0;34m,\u001b[0m \u001b[0mtcodes\u001b[0m\u001b[0;34m,\u001b[0m \u001b[0mctypes\u001b[0m\u001b[0;34m.\u001b[0m\u001b[0mc_int\u001b[0m\u001b[0;34m(\u001b[0m\u001b[0mnum_args\u001b[0m\u001b[0;34m)\u001b[0m\u001b[0;34m,\u001b[0m\u001b[0;34m\u001b[0m\u001b[0;34m\u001b[0m\u001b[0m\n\u001b[1;32m    224\u001b[0m                 ctypes.byref(ret_val), ctypes.byref(ret_tcode)) != 0:\n\u001b[0;32m--> 225\u001b[0;31m             \u001b[0;32mraise\u001b[0m \u001b[0mget_last_ffi_error\u001b[0m\u001b[0;34m(\u001b[0m\u001b[0;34m)\u001b[0m\u001b[0;34m\u001b[0m\u001b[0;34m\u001b[0m\u001b[0m\n\u001b[0m\u001b[1;32m    226\u001b[0m         \u001b[0m_\u001b[0m \u001b[0;34m=\u001b[0m \u001b[0mtemp_args\u001b[0m\u001b[0;34m\u001b[0m\u001b[0;34m\u001b[0m\u001b[0m\n\u001b[1;32m    227\u001b[0m         \u001b[0m_\u001b[0m \u001b[0;34m=\u001b[0m \u001b[0margs\u001b[0m\u001b[0;34m\u001b[0m\u001b[0;34m\u001b[0m\u001b[0m\n",
      "\u001b[0;31mTVMError\u001b[0m: Traceback (most recent call last):\n  [bt] (3) /home/lei/tvm/build/libtvm.so(TVMFuncCall+0x63) [0x7f936acc0e93]\n  [bt] (2) /home/lei/tvm/build/libtvm.so(tvm::runtime::TypedPackedFunc<tvm::runtime::Module (tvm::IRModule, tvm::Target const&)>::AssignTypedLambda<tvm::runtime::Module (*)(tvm::IRModule, tvm::Target const&)>(tvm::runtime::Module (*)(tvm::IRModule, tvm::Target const&))::{lambda(tvm::runtime::TVMArgs const&, tvm::runtime::TVMRetValue*)#1}::operator()(tvm::runtime::TVMArgs const&, tvm::runtime::TVMRetValue*) const+0x1b5) [0x7f936a6f9f95]\n  [bt] (1) /home/lei/tvm/build/libtvm.so(tvm::codegen::Build(tvm::IRModule, tvm::Target const&)+0x8a0) [0x7f936a6f4620]\n  [bt] (0) /home/lei/tvm/build/libtvm.so(+0xbdbd28) [0x7f936a6f3d28]\n  File \"/home/lei/tvm/src/target/codegen.cc\", line 58\nTVMError: Check failed: bf != nullptr: target.build.llvm -keys=cpu is not enabled"
     ]
    }
   ],
   "source": [
    "import tvm\n",
    "from tvm import te\n",
    "import numpy\n",
    "import timeit\n",
    "\n",
    "# The size of the matrix\n",
    "# (M, K) x (K, N)\n",
    "# You are free to try out different shapes, sometimes TVM optimization outperforms numpy with MKL.\n",
    "M = 1024\n",
    "K = 1024\n",
    "N = 1024\n",
    "\n",
    "# The default tensor type in tvm\n",
    "dtype = \"float32\"\n",
    "\n",
    "# using Intel AVX2(Advanced Vector Extensions) ISA for SIMD\n",
    "# To get the best performance, please change the following line\n",
    "# to llvm -mcpu=core-avx2, or specific type of CPU you use\n",
    "target = 'llvm'\n",
    "ctx = tvm.context(target, 0)\n",
    "\n",
    "# Random generated tensor for testing\n",
    "a = tvm.nd.array(numpy.random.rand(M, K).astype(dtype), ctx)\n",
    "b = tvm.nd.array(numpy.random.rand(K, N).astype(dtype), ctx)\n",
    "\n",
    "np_repeat = 100\n",
    "np_runing_time = timeit.timeit(setup='import numpy\\n'\n",
    "                                     'M = ' + str(M) + '\\n'\n",
    "                                     'K = ' + str(K) + '\\n'\n",
    "                                     'N = ' + str(N) + '\\n'\n",
    "                                     'dtype = \"float32\"\\n'\n",
    "                                     'a = numpy.random.rand(M, K).astype(dtype)\\n'\n",
    "                                     'b = numpy.random.rand(K, N).astype(dtype)\\n',\n",
    "                               stmt='answer = numpy.dot(a, b)',\n",
    "                               number=np_repeat)\n",
    "print(\"Numpy running time: %f\" % (np_runing_time / np_repeat))\n",
    "\n",
    "answer = numpy.dot(a.asnumpy(), b.asnumpy())\n",
    "\n",
    "# Algorithm\n",
    "k = te.reduce_axis((0, K), 'k')\n",
    "A = te.placeholder((M, K), name='A')\n",
    "B = te.placeholder((K, N), name='B')\n",
    "C = te.compute(\n",
    "           (M, N),\n",
    "           lambda x, y: te.sum(A[x, k] * B[k, y], axis=k),\n",
    "           name='C')\n",
    "\n",
    "# Default schedule\n",
    "s = te.create_schedule(C.op)\n",
    "func = tvm.build(s, [A, B, C], target=target, name='mmult')\n",
    "assert func\n",
    "\n",
    "c = tvm.nd.array(numpy.zeros((M, N), dtype=dtype), ctx)\n",
    "func(a, b, c)\n",
    "tvm.testing.assert_allclose(c.asnumpy(), answer, rtol=1e-5)\n",
    "\n",
    "evaluator = func.time_evaluator(func.entry_name, ctx, number=1)\n",
    "print('Baseline: %f' % evaluator(a, b, c).mean)"
   ]
  },
  {
   "cell_type": "markdown",
   "metadata": {},
   "source": [
    "In TVM, we can always inspect lower level IR to debug or optimize our schedule.\n",
    "Here is the generated IR using our baseline schedule.\n",
    "\n"
   ]
  },
  {
   "cell_type": "code",
   "execution_count": null,
   "metadata": {},
   "outputs": [],
   "source": [
    "print(tvm.lower(s, [A, B, C], simple_mode=True))"
   ]
  },
  {
   "cell_type": "markdown",
   "metadata": {},
   "source": [
    "Blocking\n",
    "--------\n",
    "A important trick to enhance the cache hit rate is blocking --- data chunk will be computed\n",
    "block by block. The memory access inside the block is a small neighbourhood which is with high\n",
    "memory locality. In this tutorial, I picked up 32 as the blocking factor. So the block will\n",
    "fill 32 * 32 * sizeof(float) which is 4KB in the cache whose total size is 32KB (L1 data cache)\n",
    "\n"
   ]
  },
  {
   "cell_type": "code",
   "execution_count": null,
   "metadata": {},
   "outputs": [],
   "source": [
    "bn = 32\n",
    "s = te.create_schedule(C.op)\n",
    "\n",
    "# Blocking by loop tiling\n",
    "xo, yo, xi, yi = s[C].tile(C.op.axis[0], C.op.axis[1], bn, bn)\n",
    "k, = s[C].op.reduce_axis\n",
    "ko, ki = s[C].split(k, factor=4)\n",
    "\n",
    "# Hoist reduction domain outside the blocking loop\n",
    "s[C].reorder(xo, yo, ko, ki, xi, yi)\n",
    "\n",
    "func = tvm.build(s, [A, B, C], target=target, name='mmult')\n",
    "assert func\n",
    "\n",
    "c = tvm.nd.array(numpy.zeros((M, N), dtype = dtype), ctx)\n",
    "func(a, b, c)\n",
    "tvm.testing.assert_allclose(c.asnumpy(), answer, rtol=1e-5)\n",
    "\n",
    "# By simply tiling the loop 32x32, and hoisting ko, ki outside the blocking loops,\n",
    "# we can see big speedup compared with the baseline.\n",
    "evaluator = func.time_evaluator(func.entry_name, ctx, number=10)\n",
    "print('Opt1: %f' % evaluator(a, b, c).mean)"
   ]
  },
  {
   "cell_type": "markdown",
   "metadata": {},
   "source": [
    "Here is the generated IR after blocking.\n",
    "\n"
   ]
  },
  {
   "cell_type": "code",
   "execution_count": null,
   "metadata": {},
   "outputs": [],
   "source": [
    "print(tvm.lower(s, [A, B, C], simple_mode=True))"
   ]
  },
  {
   "cell_type": "markdown",
   "metadata": {},
   "source": [
    "Vectorization\n",
    "-------------\n",
    "Another important trick is vectorization. When the memory access pattern is uniform,\n",
    "the compiler can detect this pattern and pass the continuous memory to vector processor. In TVM,\n",
    "we can use `vectorize` interface to hint the compiler this pattern, so that we can accelerate it vastly.\n",
    "\n",
    "In this tutorial, we chose to vectorize the inner loop row data since it is cache friendly.\n",
    "\n"
   ]
  },
  {
   "cell_type": "code",
   "execution_count": null,
   "metadata": {},
   "outputs": [],
   "source": [
    "s = te.create_schedule(C.op)\n",
    "xo, yo, xi, yi = s[C].tile(C.op.axis[0], C.op.axis[1], bn, bn)\n",
    "k, = s[C].op.reduce_axis\n",
    "ko, ki = s[C].split(k, factor=4)\n",
    "\n",
    "s[C].reorder(xo, yo, ko, ki, xi, yi)\n",
    "\n",
    "# Vectorization\n",
    "s[C].vectorize(yi)\n",
    "\n",
    "func = tvm.build(s, [A, B, C], target=target, name='mmult')\n",
    "assert func\n",
    "\n",
    "c = tvm.nd.array(numpy.zeros((M, N), dtype = dtype), ctx)\n",
    "func(a, b, c)\n",
    "tvm.testing.assert_allclose(c.asnumpy(), answer, rtol=1e-5)\n",
    "\n",
    "evaluator = func.time_evaluator(func.entry_name, ctx, number=10)\n",
    "print('Opt2: %f' % evaluator(a, b, c).mean)"
   ]
  },
  {
   "cell_type": "markdown",
   "metadata": {},
   "source": [
    "Here is the generated IR after vectorization.\n",
    "\n"
   ]
  },
  {
   "cell_type": "code",
   "execution_count": null,
   "metadata": {},
   "outputs": [],
   "source": [
    "print(tvm.lower(s, [A, B, C], simple_mode=True))"
   ]
  },
  {
   "cell_type": "markdown",
   "metadata": {},
   "source": [
    "Loop Permutation\n",
    "----------------\n",
    "If we look at the above IR, we can see the inner loop row data is vectorized and\n",
    "B is transformed into PackedB. The traversal of PackedB is sequential now.\n",
    "So we will look at the access pattern of A. In current schedule, A is accessed column by column\n",
    "which is not cache friendly. If we change the nested loop order of ki and inner axes xi,\n",
    "the access pattern for A matrix is more cache friendly.\n",
    "\n"
   ]
  },
  {
   "cell_type": "code",
   "execution_count": null,
   "metadata": {},
   "outputs": [],
   "source": [
    "s = te.create_schedule(C.op)\n",
    "xo, yo, xi, yi = s[C].tile(C.op.axis[0], C.op.axis[1], bn, bn)\n",
    "k, = s[C].op.reduce_axis\n",
    "ko, ki = s[C].split(k, factor=4)\n",
    "\n",
    "# re-ordering\n",
    "s[C].reorder(xo, yo, ko, xi, ki, yi)\n",
    "s[C].vectorize(yi)\n",
    "\n",
    "func = tvm.build(s, [A, B, C], target=target, name='mmult')\n",
    "assert func\n",
    "\n",
    "c = tvm.nd.array(numpy.zeros((M, N), dtype = dtype), ctx)\n",
    "func(a, b, c)\n",
    "tvm.testing.assert_allclose(c.asnumpy(), answer, rtol=1e-5)\n",
    "\n",
    "evaluator = func.time_evaluator(func.entry_name, ctx, number=10)\n",
    "print('Opt3: %f' % evaluator(a, b, c).mean)"
   ]
  },
  {
   "cell_type": "markdown",
   "metadata": {},
   "source": [
    "Here is the generated IR after loop permutation.\n",
    "\n"
   ]
  },
  {
   "cell_type": "code",
   "execution_count": null,
   "metadata": {},
   "outputs": [],
   "source": [
    "print(tvm.lower(s, [A, B, C], simple_mode=True))"
   ]
  },
  {
   "cell_type": "markdown",
   "metadata": {},
   "source": [
    "Array Packing\n",
    "-------------\n",
    "Another important trick is array packing. This trick is to reorder the storage dimension of the\n",
    "array to convert the continuous access pattern on certain dimension to a sequential pattern after\n",
    "flattening.\n",
    "\n",
    "![](https://github.com/dmlc/web-data/raw/master/tvm/tutorial/array-packing.png)\n",
    "\n",
    "     :align: center\n",
    "\n",
    "\n"
   ]
  },
  {
   "cell_type": "markdown",
   "metadata": {},
   "source": [
    "Just as it is shown in the figure above, after blocking the computations, we can observe the array\n",
    "access pattern of B (after flattening), which is regular but discontinuous. We expect that after\n",
    "some transformation we can get continuous access pattern. We can reorder a [16][16] array to\n",
    "a [16/4][16][4] array, so that the access pattern of B will be sequential when grabing\n",
    "the corresponding value from the packed array.\n",
    "\n",
    "\n"
   ]
  },
  {
   "cell_type": "code",
   "execution_count": null,
   "metadata": {},
   "outputs": [],
   "source": [
    "# We have to re-write the algorithm slightly.\n",
    "packedB = te.compute((N / bn, K, bn), lambda x, y, z: B[y, x * bn + z], name='packedB')\n",
    "C = te.compute((M, N),\n",
    "                lambda x, y: te.sum(A[x, k] * packedB[y // bn, k, tvm.tir.indexmod(y, bn)], axis=k),\n",
    "                name = 'C')\n",
    "\n",
    "s = te.create_schedule(C.op)\n",
    "\n",
    "xo, yo, xi, yi = s[C].tile(C.op.axis[0], C.op.axis[1], bn, bn)\n",
    "k, = s[C].op.reduce_axis\n",
    "ko, ki = s[C].split(k, factor=4)\n",
    "\n",
    "s[C].reorder(xo, yo, ko, xi, ki, yi)\n",
    "s[C].vectorize(yi)\n",
    "\n",
    "x, y, z = s[packedB].op.axis\n",
    "s[packedB].vectorize(z)\n",
    "s[packedB].parallel(x)\n",
    "\n",
    "func = tvm.build(s, [A, B, C], target=target, name='mmult')\n",
    "assert func\n",
    "\n",
    "c = tvm.nd.array(numpy.zeros((M, N), dtype = dtype), ctx)\n",
    "func(a, b, c)\n",
    "tvm.testing.assert_allclose(c.asnumpy(), answer, rtol=1e-5)\n",
    "\n",
    "evaluator = func.time_evaluator(func.entry_name, ctx, number=10)\n",
    "print('Opt4: %f' % evaluator(a, b, c).mean)"
   ]
  },
  {
   "cell_type": "markdown",
   "metadata": {},
   "source": [
    "Here is the generated IR after array packing.\n",
    "\n"
   ]
  },
  {
   "cell_type": "code",
   "execution_count": null,
   "metadata": {},
   "outputs": [],
   "source": [
    "print(tvm.lower(s, [A, B, C], simple_mode=True))"
   ]
  },
  {
   "cell_type": "markdown",
   "metadata": {},
   "source": [
    "Write cache for blocks\n",
    "----------------------\n",
    "After blocking, the program will write result to C block by block, the access pattern\n",
    "is not sequential. So we can use a sequential cache array to hold the block results and\n",
    "write to C when all the block results are ready.\n",
    "\n",
    "\n"
   ]
  },
  {
   "cell_type": "code",
   "execution_count": null,
   "metadata": {},
   "outputs": [],
   "source": [
    "s = te.create_schedule(C.op)\n",
    "\n",
    "# Allocate write cache\n",
    "CC = s.cache_write(C, 'global')\n",
    "\n",
    "xo, yo, xi, yi = s[C].tile(C.op.axis[0], C.op.axis[1], bn, bn)\n",
    "\n",
    "# Write cache is computed at yo\n",
    "s[CC].compute_at(s[C], yo)\n",
    "\n",
    "# New inner axes\n",
    "xc, yc = s[CC].op.axis\n",
    "\n",
    "k, = s[CC].op.reduce_axis\n",
    "ko, ki = s[CC].split(k, factor=4)\n",
    "s[CC].reorder(ko, xc, ki, yc)\n",
    "s[CC].unroll(ki)\n",
    "s[CC].vectorize(yc)\n",
    "\n",
    "x, y, z = s[packedB].op.axis\n",
    "s[packedB].vectorize(z)\n",
    "s[packedB].parallel(x)\n",
    "\n",
    "func = tvm.build(s, [A, B, C], target=target, name='mmult')\n",
    "assert func\n",
    "\n",
    "c = tvm.nd.array(numpy.zeros((M, N), dtype = dtype), ctx)\n",
    "func(a, b, c)\n",
    "tvm.testing.assert_allclose(c.asnumpy(), answer, rtol=1e-5)\n",
    "\n",
    "evaluator = func.time_evaluator(func.entry_name, ctx, number=10)\n",
    "print('Opt5: %f' % evaluator(a, b, c).mean)"
   ]
  },
  {
   "cell_type": "markdown",
   "metadata": {},
   "source": [
    "Here is the generated IR after blocking.\n",
    "\n"
   ]
  },
  {
   "cell_type": "code",
   "execution_count": null,
   "metadata": {},
   "outputs": [],
   "source": [
    "print(tvm.lower(s, [A, B, C], simple_mode=True))"
   ]
  },
  {
   "cell_type": "markdown",
   "metadata": {},
   "source": [
    "Parallel\n",
    "--------\n",
    "Futhermore, we can also utilize multi-core processors to do the thread-level parallelization.\n",
    "\n"
   ]
  },
  {
   "cell_type": "code",
   "execution_count": null,
   "metadata": {},
   "outputs": [],
   "source": [
    "s = te.create_schedule(C.op)\n",
    "\n",
    "CC = s.cache_write(C, 'global')\n",
    "\n",
    "xo, yo, xi, yi = s[C].tile(C.op.axis[0], C.op.axis[1], bn, bn)\n",
    "\n",
    "s[CC].compute_at(s[C], yo)\n",
    "\n",
    "xc, yc = s[CC].op.axis\n",
    "\n",
    "k, = s[CC].op.reduce_axis\n",
    "ko, ki = s[CC].split(k, factor=4)\n",
    "s[CC].reorder(ko, xc, ki, yc)\n",
    "s[CC].unroll(ki)\n",
    "s[CC].vectorize(yc)\n",
    "\n",
    "# parallel\n",
    "s[C].parallel(xo)\n",
    "\n",
    "x, y, z = s[packedB].op.axis\n",
    "s[packedB].vectorize(z)\n",
    "s[packedB].parallel(x)\n",
    "\n",
    "func = tvm.build(s, [A, B, C], target=target, name = 'mmult')\n",
    "assert func\n",
    "\n",
    "c = tvm.nd.array(numpy.zeros((M, N), dtype = dtype), ctx)\n",
    "func(a, b, c)\n",
    "tvm.testing.assert_allclose(c.asnumpy(), answer, rtol=1e-5)\n",
    "\n",
    "evaluator = func.time_evaluator(func.entry_name, ctx, number=50)\n",
    "opt6_time = evaluator(a, b, c).mean\n",
    "print('Opt6: %f' % opt6_time)"
   ]
  },
  {
   "cell_type": "markdown",
   "metadata": {},
   "source": [
    "Here is the generated IR after parallelization.\n",
    "\n"
   ]
  },
  {
   "cell_type": "code",
   "execution_count": null,
   "metadata": {},
   "outputs": [],
   "source": [
    "print(tvm.lower(s, [A, B, C], simple_mode=True))"
   ]
  },
  {
   "cell_type": "markdown",
   "metadata": {},
   "source": [
    "Summary\n",
    "-------\n",
    "After applying the above simple optimizations with only 18 lines of code,\n",
    "our generated code can achieve 60% of the `numpy` performance with MKL.\n",
    "Note that the outputs on the web page reflect the running times on a non-exclusive\n",
    "Docker container, thereby they are *unreliable*. It is highly encouraged to run the\n",
    "tutorial by yourself to observe the performance gain acheived by TVM.\n",
    "\n"
   ]
  }
 ],
 "metadata": {
  "kernelspec": {
   "display_name": "Python 3",
   "language": "python",
   "name": "python3"
  }
 },
 "nbformat": 4,
 "nbformat_minor": 1
}
