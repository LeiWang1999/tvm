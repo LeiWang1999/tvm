{
 "cells": [
  {
   "cell_type": "code",
   "execution_count": 1,
   "metadata": {},
   "outputs": [],
   "source": [
    "import tvm\n",
    "from tvm import te\n",
    "import numpy as np"
   ]
  },
  {
   "cell_type": "markdown",
   "metadata": {},
   "source": [
    "# Broadcast"
   ]
  },
  {
   "cell_type": "code",
   "execution_count": 11,
   "metadata": {},
   "outputs": [],
   "source": [
    "# 2 dimension\n",
    "def get_broadcast_abc(shape1, shape2):\n",
    "    # Validation\n",
    "    assert len(shape1) == 2 and len(shape2) == 2 , \"Must to be 2-D\"\n",
    "    for i in range(len(shape1)):\n",
    "        assert shape1[i] == shape2[i] or shape1[i] == 1 or shape2[i] ==1 , \"Broadcast shape error\"\n",
    "    A = te.placeholder(shape1, dtype='float32',name='a')\n",
    "    B = te.placeholder(shape2, dtype='float32',name='b')\n",
    "    m = shape1[0] if shape2[0] == 1 else shape2[0]\n",
    "    n = shape1[1] if shape2[1] == 1 else shape2[1]\n",
    "    f = lambda i,j : A[ 0 if shape1[0] == 1 else i][0 if shape1[1] == 1 else j] + \\\n",
    "    B[0 if shape2[0] ==1 else i][0 if shape2[1] ==1 else j]\n",
    "    C = te.compute((m,n), f, name='c')\n",
    "    return A, B, C"
   ]
  },
  {
   "cell_type": "code",
   "execution_count": 13,
   "metadata": {},
   "outputs": [],
   "source": [
    "m, n = [te.var(name) for name in ('m', 'n')]\n",
    "shape1 = (m, 1)\n",
    "shape2 = (m, n)\n",
    "A, B, C = get_broadcast_abc(shape1, shape2)"
   ]
  },
  {
   "cell_type": "code",
   "execution_count": 15,
   "metadata": {},
   "outputs": [
    {
     "data": {
      "text/plain": [
       "IRModuleNode( {GlobalVar(main): PrimFunc([a, b, c]) attrs={\"global_symbol\": \"main\", \"tir.noalias\": (bool)1} {\n",
       "  for (i, 0, m) {\n",
       "    for (j, 0, n) {\n",
       "      c[((i*stride) + (j*stride))] = (a[(i*stride)] + b[((i*stride) + (j*stride))])\n",
       "    }\n",
       "  }\n",
       "}\n",
       "})"
      ]
     },
     "execution_count": 15,
     "metadata": {},
     "output_type": "execute_result"
    }
   ],
   "source": [
    "s = te.create_schedule(C.op)\n",
    "tvm.lower(s, [A,B,C], simple_mode=True)"
   ]
  },
  {
   "cell_type": "code",
   "execution_count": 37,
   "metadata": {},
   "outputs": [
    {
     "data": {
      "text/plain": [
       "(<tvm.nd.NDArray shape=(3, 1), cpu(0)>\n",
       " array([[0.],\n",
       "        [1.],\n",
       "        [2.]], dtype=float32),\n",
       " <tvm.nd.NDArray shape=(1, 4), cpu(0)>\n",
       " array([[0., 1., 2., 3.]], dtype=float32),\n",
       " <tvm.nd.NDArray shape=(3, 4), cpu(0)>\n",
       " array([[0., 1., 2., 3.],\n",
       "        [1., 2., 3., 4.],\n",
       "        [2., 3., 4., 5.]], dtype=float32))"
      ]
     },
     "execution_count": 37,
     "metadata": {},
     "output_type": "execute_result"
    }
   ],
   "source": [
    "a = tvm.nd.array(np.arange(3, dtype='float32').reshape(3,1))\n",
    "b = tvm.nd.array(np.arange(4, dtype='float32').reshape((1,4)))\n",
    "c = tvm.nd.array(np.empty((3,4), dtype='float32'))\n",
    "mod = tvm.build(s, [A, B, C])\n",
    "mod(a, b, c)\n",
    "a, b, c"
   ]
  }
 ],
 "metadata": {
  "kernelspec": {
   "display_name": "Python 3",
   "language": "python",
   "name": "python3"
  },
  "language_info": {
   "codemirror_mode": {
    "name": "ipython",
    "version": 3
   },
   "file_extension": ".py",
   "mimetype": "text/x-python",
   "name": "python",
   "nbconvert_exporter": "python",
   "pygments_lexer": "ipython3",
   "version": "3.7.4"
  }
 },
 "nbformat": 4,
 "nbformat_minor": 4
}
