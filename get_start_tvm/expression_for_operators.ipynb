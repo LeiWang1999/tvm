{
 "cells": [
  {
   "cell_type": "code",
   "execution_count": 3,
   "metadata": {},
   "outputs": [],
   "source": [
    "import tvm\n",
    "from tvm import te\n",
    "import numpy as np\n",
    "\n",
    "n = 100\n",
    "\n",
    "def tvm_vector_add(dtype):\n",
    "    A = te.placeholder((n,), dtype=dtype)\n",
    "    B = te.placeholder((n,), dtype=dtype)\n",
    "    C = te.compute(A.shape, lambda i: A[i] + B[i])\n",
    "    print('expression dtype:', A.dtype, B.dtype, C.dtype)\n",
    "    s = te.create_schedule(C.op)\n",
    "    return tvm.build(s, [A, B, C])"
   ]
  },
  {
   "cell_type": "code",
   "execution_count": 6,
   "metadata": {},
   "outputs": [
    {
     "name": "stdout",
     "output_type": "stream",
     "text": [
      "expression dtype: float32 float32 float32\n",
      "expression dtype: int32 int32 int32\n"
     ]
    }
   ],
   "source": [
    "mod = tvm_vector_add('float32')\n",
    "mod = tvm_vector_add('int32')"
   ]
  },
  {
   "cell_type": "code",
   "execution_count": 9,
   "metadata": {},
   "outputs": [],
   "source": [
    "# Save to the d2ltvm package.\n",
    "def get_abc(shape, constructor=None):\n",
    "    \"\"\"Return random a, b and empty c with the same shape.\n",
    "    \"\"\"\n",
    "    np.random.seed(0)\n",
    "    a = np.random.normal(size=shape).astype(np.float32)\n",
    "    b = np.random.normal(size=shape).astype(np.float32)\n",
    "    c = np.empty_like(a)\n",
    "    if constructor:\n",
    "        a, b, c = [constructor(x) for x in (a, b, c)]\n",
    "    return a, b, c"
   ]
  },
  {
   "cell_type": "code",
   "execution_count": 11,
   "metadata": {},
   "outputs": [
    {
     "name": "stdout",
     "output_type": "stream",
     "text": [
      "expression dtype: float16 float16 float16\n",
      "tensor dtype: float16 float16 float16\n",
      "expression dtype: float64 float64 float64\n",
      "tensor dtype: float64 float64 float64\n",
      "expression dtype: int8 int8 int8\n",
      "tensor dtype: int8 int8 int8\n",
      "expression dtype: int16 int16 int16\n",
      "tensor dtype: int16 int16 int16\n",
      "expression dtype: int64 int64 int64\n",
      "tensor dtype: int64 int64 int64\n"
     ]
    }
   ],
   "source": [
    "# try other date type\n",
    "def test_mod(mod, dtype):\n",
    "    a, b, c = get_abc(n, lambda x: tvm.nd.array(x.astype(dtype)))\n",
    "    print('tensor dtype:', a.dtype, b.dtype, c.dtype)\n",
    "    mod(a, b, c)\n",
    "    np.testing.assert_equal(c.asnumpy(), a.asnumpy() + b.asnumpy())\n",
    "\n",
    "for dtype in ['float16', 'float64', 'int8','int16', 'int64']:\n",
    "    mod = tvm_vector_add(dtype)\n",
    "    test_mod(mod, dtype)"
   ]
  },
  {
   "cell_type": "code",
   "execution_count": null,
   "metadata": {},
   "outputs": [],
   "source": []
  }
 ],
 "metadata": {
  "kernelspec": {
   "display_name": "Python 3",
   "language": "python",
   "name": "python3"
  },
  "language_info": {
   "codemirror_mode": {
    "name": "ipython",
    "version": 3
   },
   "file_extension": ".py",
   "mimetype": "text/x-python",
   "name": "python",
   "nbconvert_exporter": "python",
   "pygments_lexer": "ipython3",
   "version": "3.7.4"
  }
 },
 "nbformat": 4,
 "nbformat_minor": 4
}
